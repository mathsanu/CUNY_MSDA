{
 "cells": [
  {
   "cell_type": "markdown",
   "metadata": {},
   "source": [
    "# DATA 620, Assignment 1: “hello, graph world”\n",
    "#### June 28, 2017\n",
    "\n",
    "### Group 6 Member:\n",
    "* Matheesha Thambeliyagodage\n"
   ]
  },
  {
   "cell_type": "markdown",
   "metadata": {},
   "source": [
    "# Objective\n",
    "\n",
    "In this assignment, you’re asked to create the nodes and edges for a basic graph, such as the Krackhardt kite shown\n",
    "below. (You’re welcome to substitute data of your own choosing).\n",
    "\n",
    "![](https://raw.githubusercontent.com/mathsanu/CUNY_MSDA/master/DATA620/W1/kite.png)\n",
    "\n",
    "\n",
    "# Assignment Response\n",
    "\n",
    "Here we did:\n",
    "\n",
    "* Use Turi/Graphlab API to load data into SFrames\n",
    "* create a Graph data structure from these frames\n",
    "* Use general graphlab methods to explore the data\n"
   ]
  },
  {
   "cell_type": "code",
   "execution_count": 3,
   "metadata": {
    "collapsed": false
   },
   "outputs": [],
   "source": [
    "import graphlab as gl\n",
    "gl.canvas.set_target('ipynb') # use IPython Notebook output for GraphLab Canvas"
   ]
  },
  {
   "cell_type": "markdown",
   "metadata": {},
   "source": [
    "## Loading the Data into an SFrame\n"
   ]
  },
  {
   "cell_type": "code",
   "execution_count": 4,
   "metadata": {
    "collapsed": false
   },
   "outputs": [
    {
     "name": "stdout",
     "output_type": "stream",
     "text": [
      "This non-commercial license of GraphLab Create for academic use is assigned to Matheesha.Thambeliyagodage@spsmail.cuny.edu and will expire on June 17, 2019.\n"
     ]
    },
    {
     "name": "stderr",
     "output_type": "stream",
     "text": [
      "[INFO] graphlab.cython.cy_server: GraphLab Create v2.1 started. Logging: C:\\Users\\mats\\AppData\\Local\\Temp\\graphlab_server_1530460585.log.0\n"
     ]
    },
    {
     "data": {
      "text/html": [
       "<pre>Downloading https://raw.githubusercontent.com/mathsanu/CUNY_MSDA/master/DATA620/W1/vertices.csv to C:/Users/mats/AppData/Local/Temp/graphlab-mats/11840/3696b49e-c8ea-44ba-97a8-c5f6233e1adb.csv</pre>"
      ],
      "text/plain": [
       "Downloading https://raw.githubusercontent.com/mathsanu/CUNY_MSDA/master/DATA620/W1/vertices.csv to C:/Users/mats/AppData/Local/Temp/graphlab-mats/11840/3696b49e-c8ea-44ba-97a8-c5f6233e1adb.csv"
      ]
     },
     "metadata": {},
     "output_type": "display_data"
    },
    {
     "data": {
      "text/html": [
       "<pre>Finished parsing file https://raw.githubusercontent.com/mathsanu/CUNY_MSDA/master/DATA620/W1/vertices.csv</pre>"
      ],
      "text/plain": [
       "Finished parsing file https://raw.githubusercontent.com/mathsanu/CUNY_MSDA/master/DATA620/W1/vertices.csv"
      ]
     },
     "metadata": {},
     "output_type": "display_data"
    },
    {
     "data": {
      "text/html": [
       "<pre>Parsing completed. Parsed 10 lines in 0.015627 secs.</pre>"
      ],
      "text/plain": [
       "Parsing completed. Parsed 10 lines in 0.015627 secs."
      ]
     },
     "metadata": {},
     "output_type": "display_data"
    },
    {
     "name": "stdout",
     "output_type": "stream",
     "text": [
      "------------------------------------------------------\n",
      "Inferred types from first 100 line(s) of file as \n",
      "column_type_hints=[str]\n",
      "If parsing fails due to incorrect types, you can correct\n",
      "the inferred type list above and pass it to read_csv in\n",
      "the column_type_hints argument\n",
      "------------------------------------------------------\n"
     ]
    },
    {
     "data": {
      "text/html": [
       "<pre>Finished parsing file https://raw.githubusercontent.com/mathsanu/CUNY_MSDA/master/DATA620/W1/vertices.csv</pre>"
      ],
      "text/plain": [
       "Finished parsing file https://raw.githubusercontent.com/mathsanu/CUNY_MSDA/master/DATA620/W1/vertices.csv"
      ]
     },
     "metadata": {},
     "output_type": "display_data"
    },
    {
     "data": {
      "text/html": [
       "<pre>Parsing completed. Parsed 10 lines in 0.012001 secs.</pre>"
      ],
      "text/plain": [
       "Parsing completed. Parsed 10 lines in 0.012001 secs."
      ]
     },
     "metadata": {},
     "output_type": "display_data"
    },
    {
     "data": {
      "text/html": [
       "<pre>Downloading https://raw.githubusercontent.com/mathsanu/CUNY_MSDA/master/DATA620/W1/edges.csv to C:/Users/mats/AppData/Local/Temp/graphlab-mats/11840/ea08f309-952a-4860-b00e-49ebe98a22b5.csv</pre>"
      ],
      "text/plain": [
       "Downloading https://raw.githubusercontent.com/mathsanu/CUNY_MSDA/master/DATA620/W1/edges.csv to C:/Users/mats/AppData/Local/Temp/graphlab-mats/11840/ea08f309-952a-4860-b00e-49ebe98a22b5.csv"
      ]
     },
     "metadata": {},
     "output_type": "display_data"
    },
    {
     "data": {
      "text/html": [
       "<pre>Finished parsing file https://raw.githubusercontent.com/mathsanu/CUNY_MSDA/master/DATA620/W1/edges.csv</pre>"
      ],
      "text/plain": [
       "Finished parsing file https://raw.githubusercontent.com/mathsanu/CUNY_MSDA/master/DATA620/W1/edges.csv"
      ]
     },
     "metadata": {},
     "output_type": "display_data"
    },
    {
     "data": {
      "text/html": [
       "<pre>Parsing completed. Parsed 36 lines in 0.015626 secs.</pre>"
      ],
      "text/plain": [
       "Parsing completed. Parsed 36 lines in 0.015626 secs."
      ]
     },
     "metadata": {},
     "output_type": "display_data"
    },
    {
     "name": "stdout",
     "output_type": "stream",
     "text": [
      "------------------------------------------------------\n",
      "Inferred types from first 100 line(s) of file as \n",
      "column_type_hints=[str,str]\n",
      "If parsing fails due to incorrect types, you can correct\n",
      "the inferred type list above and pass it to read_csv in\n",
      "the column_type_hints argument\n",
      "------------------------------------------------------\n"
     ]
    },
    {
     "data": {
      "text/html": [
       "<pre>Finished parsing file https://raw.githubusercontent.com/mathsanu/CUNY_MSDA/master/DATA620/W1/edges.csv</pre>"
      ],
      "text/plain": [
       "Finished parsing file https://raw.githubusercontent.com/mathsanu/CUNY_MSDA/master/DATA620/W1/edges.csv"
      ]
     },
     "metadata": {},
     "output_type": "display_data"
    },
    {
     "data": {
      "text/html": [
       "<pre>Parsing completed. Parsed 36 lines in 0.007627 secs.</pre>"
      ],
      "text/plain": [
       "Parsing completed. Parsed 36 lines in 0.007627 secs."
      ]
     },
     "metadata": {},
     "output_type": "display_data"
    },
    {
     "data": {
      "text/html": [
       "<pre>Downloading https://raw.githubusercontent.com/mathsanu/CUNY_MSDA/master/DATA620/W1/edges-directed.csv to C:/Users/mats/AppData/Local/Temp/graphlab-mats/11840/e4a5f802-f5dd-4e42-8138-cb2ce6eed44e.csv</pre>"
      ],
      "text/plain": [
       "Downloading https://raw.githubusercontent.com/mathsanu/CUNY_MSDA/master/DATA620/W1/edges-directed.csv to C:/Users/mats/AppData/Local/Temp/graphlab-mats/11840/e4a5f802-f5dd-4e42-8138-cb2ce6eed44e.csv"
      ]
     },
     "metadata": {},
     "output_type": "display_data"
    },
    {
     "data": {
      "text/html": [
       "<pre>Finished parsing file https://raw.githubusercontent.com/mathsanu/CUNY_MSDA/master/DATA620/W1/edges-directed.csv</pre>"
      ],
      "text/plain": [
       "Finished parsing file https://raw.githubusercontent.com/mathsanu/CUNY_MSDA/master/DATA620/W1/edges-directed.csv"
      ]
     },
     "metadata": {},
     "output_type": "display_data"
    },
    {
     "data": {
      "text/html": [
       "<pre>Parsing completed. Parsed 18 lines in 0.015622 secs.</pre>"
      ],
      "text/plain": [
       "Parsing completed. Parsed 18 lines in 0.015622 secs."
      ]
     },
     "metadata": {},
     "output_type": "display_data"
    },
    {
     "name": "stdout",
     "output_type": "stream",
     "text": [
      "------------------------------------------------------\n",
      "Inferred types from first 100 line(s) of file as \n",
      "column_type_hints=[str,str]\n",
      "If parsing fails due to incorrect types, you can correct\n",
      "the inferred type list above and pass it to read_csv in\n",
      "the column_type_hints argument\n",
      "------------------------------------------------------\n"
     ]
    },
    {
     "data": {
      "text/html": [
       "<pre>Finished parsing file https://raw.githubusercontent.com/mathsanu/CUNY_MSDA/master/DATA620/W1/edges-directed.csv</pre>"
      ],
      "text/plain": [
       "Finished parsing file https://raw.githubusercontent.com/mathsanu/CUNY_MSDA/master/DATA620/W1/edges-directed.csv"
      ]
     },
     "metadata": {},
     "output_type": "display_data"
    },
    {
     "data": {
      "text/html": [
       "<pre>Parsing completed. Parsed 18 lines in 0.00956 secs.</pre>"
      ],
      "text/plain": [
       "Parsing completed. Parsed 18 lines in 0.00956 secs."
      ]
     },
     "metadata": {},
     "output_type": "display_data"
    }
   ],
   "source": [
    "vertices = gl.SFrame.read_csv('https://raw.githubusercontent.com/mathsanu/CUNY_MSDA/master/DATA620/W1/vertices.csv')\n",
    "edges = gl.SFrame.read_csv('https://raw.githubusercontent.com/mathsanu/CUNY_MSDA/master/DATA620/W1/edges.csv')\n",
    "edges_dir = gl.SFrame.read_csv('https://raw.githubusercontent.com/mathsanu/CUNY_MSDA/master/DATA620/W1/edges-directed.csv')"
   ]
  },
  {
   "cell_type": "code",
   "execution_count": 5,
   "metadata": {
    "collapsed": false
   },
   "outputs": [
    {
     "data": {
      "text/html": [
       "<div style=\"max-height:1000px;max-width:1500px;overflow:auto;\"><table frame=\"box\" rules=\"cols\">\n",
       "    <tr>\n",
       "        <th style=\"padding-left: 1em; padding-right: 1em; text-align: center\">src</th>\n",
       "        <th style=\"padding-left: 1em; padding-right: 1em; text-align: center\">dst</th>\n",
       "    </tr>\n",
       "    <tr>\n",
       "        <td style=\"padding-left: 1em; padding-right: 1em; text-align: center; vertical-align: top\">carol</td>\n",
       "        <td style=\"padding-left: 1em; padding-right: 1em; text-align: center; vertical-align: top\">andre</td>\n",
       "    </tr>\n",
       "    <tr>\n",
       "        <td style=\"padding-left: 1em; padding-right: 1em; text-align: center; vertical-align: top\">carol</td>\n",
       "        <td style=\"padding-left: 1em; padding-right: 1em; text-align: center; vertical-align: top\">fernando</td>\n",
       "    </tr>\n",
       "    <tr>\n",
       "        <td style=\"padding-left: 1em; padding-right: 1em; text-align: center; vertical-align: top\">carol</td>\n",
       "        <td style=\"padding-left: 1em; padding-right: 1em; text-align: center; vertical-align: top\">diane</td>\n",
       "    </tr>\n",
       "    <tr>\n",
       "        <td style=\"padding-left: 1em; padding-right: 1em; text-align: center; vertical-align: top\">andre</td>\n",
       "        <td style=\"padding-left: 1em; padding-right: 1em; text-align: center; vertical-align: top\">diane</td>\n",
       "    </tr>\n",
       "    <tr>\n",
       "        <td style=\"padding-left: 1em; padding-right: 1em; text-align: center; vertical-align: top\">andre</td>\n",
       "        <td style=\"padding-left: 1em; padding-right: 1em; text-align: center; vertical-align: top\">fernando</td>\n",
       "    </tr>\n",
       "    <tr>\n",
       "        <td style=\"padding-left: 1em; padding-right: 1em; text-align: center; vertical-align: top\">fernando</td>\n",
       "        <td style=\"padding-left: 1em; padding-right: 1em; text-align: center; vertical-align: top\">diane</td>\n",
       "    </tr>\n",
       "    <tr>\n",
       "        <td style=\"padding-left: 1em; padding-right: 1em; text-align: center; vertical-align: top\">beverly</td>\n",
       "        <td style=\"padding-left: 1em; padding-right: 1em; text-align: center; vertical-align: top\">diane</td>\n",
       "    </tr>\n",
       "    <tr>\n",
       "        <td style=\"padding-left: 1em; padding-right: 1em; text-align: center; vertical-align: top\">beverly</td>\n",
       "        <td style=\"padding-left: 1em; padding-right: 1em; text-align: center; vertical-align: top\">garth</td>\n",
       "    </tr>\n",
       "    <tr>\n",
       "        <td style=\"padding-left: 1em; padding-right: 1em; text-align: center; vertical-align: top\">beverly</td>\n",
       "        <td style=\"padding-left: 1em; padding-right: 1em; text-align: center; vertical-align: top\">ed</td>\n",
       "    </tr>\n",
       "    <tr>\n",
       "        <td style=\"padding-left: 1em; padding-right: 1em; text-align: center; vertical-align: top\">ed</td>\n",
       "        <td style=\"padding-left: 1em; padding-right: 1em; text-align: center; vertical-align: top\">garth</td>\n",
       "    </tr>\n",
       "</table>\n",
       "[18 rows x 2 columns]<br/>Note: Only the head of the SFrame is printed.<br/>You can use print_rows(num_rows=m, num_columns=n) to print more rows and columns.\n",
       "</div>"
      ],
      "text/plain": [
       "Columns:\n",
       "\tsrc\tstr\n",
       "\tdst\tstr\n",
       "\n",
       "Rows: 18\n",
       "\n",
       "Data:\n",
       "+----------+----------+\n",
       "|   src    |   dst    |\n",
       "+----------+----------+\n",
       "|  carol   |  andre   |\n",
       "|  carol   | fernando |\n",
       "|  carol   |  diane   |\n",
       "|  andre   |  diane   |\n",
       "|  andre   | fernando |\n",
       "| fernando |  diane   |\n",
       "| beverly  |  diane   |\n",
       "| beverly  |  garth   |\n",
       "| beverly  |    ed    |\n",
       "|    ed    |  garth   |\n",
       "+----------+----------+\n",
       "[18 rows x 2 columns]\n",
       "Note: Only the head of the SFrame is printed.\n",
       "You can use print_rows(num_rows=m, num_columns=n) to print more rows and columns."
      ]
     },
     "execution_count": 5,
     "metadata": {},
     "output_type": "execute_result"
    }
   ],
   "source": [
    "edges_dir"
   ]
  },
  {
   "cell_type": "code",
   "execution_count": 4,
   "metadata": {
    "collapsed": false
   },
   "outputs": [
    {
     "data": {
      "text/html": [
       "<div style=\"max-height:1000px;max-width:1500px;overflow:auto;\"><table frame=\"box\" rules=\"cols\">\n",
       "    <tr>\n",
       "        <th style=\"padding-left: 1em; padding-right: 1em; text-align: center\">src</th>\n",
       "        <th style=\"padding-left: 1em; padding-right: 1em; text-align: center\">dst</th>\n",
       "    </tr>\n",
       "    <tr>\n",
       "        <td style=\"padding-left: 1em; padding-right: 1em; text-align: center; vertical-align: top\">carol</td>\n",
       "        <td style=\"padding-left: 1em; padding-right: 1em; text-align: center; vertical-align: top\">andre</td>\n",
       "    </tr>\n",
       "    <tr>\n",
       "        <td style=\"padding-left: 1em; padding-right: 1em; text-align: center; vertical-align: top\">andre</td>\n",
       "        <td style=\"padding-left: 1em; padding-right: 1em; text-align: center; vertical-align: top\">carol</td>\n",
       "    </tr>\n",
       "    <tr>\n",
       "        <td style=\"padding-left: 1em; padding-right: 1em; text-align: center; vertical-align: top\">carol</td>\n",
       "        <td style=\"padding-left: 1em; padding-right: 1em; text-align: center; vertical-align: top\">fernando</td>\n",
       "    </tr>\n",
       "    <tr>\n",
       "        <td style=\"padding-left: 1em; padding-right: 1em; text-align: center; vertical-align: top\">fernando</td>\n",
       "        <td style=\"padding-left: 1em; padding-right: 1em; text-align: center; vertical-align: top\">carol</td>\n",
       "    </tr>\n",
       "    <tr>\n",
       "        <td style=\"padding-left: 1em; padding-right: 1em; text-align: center; vertical-align: top\">carol</td>\n",
       "        <td style=\"padding-left: 1em; padding-right: 1em; text-align: center; vertical-align: top\">diane</td>\n",
       "    </tr>\n",
       "    <tr>\n",
       "        <td style=\"padding-left: 1em; padding-right: 1em; text-align: center; vertical-align: top\">diane</td>\n",
       "        <td style=\"padding-left: 1em; padding-right: 1em; text-align: center; vertical-align: top\">carol</td>\n",
       "    </tr>\n",
       "    <tr>\n",
       "        <td style=\"padding-left: 1em; padding-right: 1em; text-align: center; vertical-align: top\">andre</td>\n",
       "        <td style=\"padding-left: 1em; padding-right: 1em; text-align: center; vertical-align: top\">diane</td>\n",
       "    </tr>\n",
       "    <tr>\n",
       "        <td style=\"padding-left: 1em; padding-right: 1em; text-align: center; vertical-align: top\">diane</td>\n",
       "        <td style=\"padding-left: 1em; padding-right: 1em; text-align: center; vertical-align: top\">andre</td>\n",
       "    </tr>\n",
       "    <tr>\n",
       "        <td style=\"padding-left: 1em; padding-right: 1em; text-align: center; vertical-align: top\">andre</td>\n",
       "        <td style=\"padding-left: 1em; padding-right: 1em; text-align: center; vertical-align: top\">fernando</td>\n",
       "    </tr>\n",
       "    <tr>\n",
       "        <td style=\"padding-left: 1em; padding-right: 1em; text-align: center; vertical-align: top\">fernando</td>\n",
       "        <td style=\"padding-left: 1em; padding-right: 1em; text-align: center; vertical-align: top\">andre</td>\n",
       "    </tr>\n",
       "</table>\n",
       "[36 rows x 2 columns]<br/>Note: Only the head of the SFrame is printed.<br/>You can use print_rows(num_rows=m, num_columns=n) to print more rows and columns.\n",
       "</div>"
      ],
      "text/plain": [
       "Columns:\n",
       "\tsrc\tstr\n",
       "\tdst\tstr\n",
       "\n",
       "Rows: 36\n",
       "\n",
       "Data:\n",
       "+----------+----------+\n",
       "|   src    |   dst    |\n",
       "+----------+----------+\n",
       "|  carol   |  andre   |\n",
       "|  andre   |  carol   |\n",
       "|  carol   | fernando |\n",
       "| fernando |  carol   |\n",
       "|  carol   |  diane   |\n",
       "|  diane   |  carol   |\n",
       "|  andre   |  diane   |\n",
       "|  diane   |  andre   |\n",
       "|  andre   | fernando |\n",
       "| fernando |  andre   |\n",
       "+----------+----------+\n",
       "[36 rows x 2 columns]\n",
       "Note: Only the head of the SFrame is printed.\n",
       "You can use print_rows(num_rows=m, num_columns=n) to print more rows and columns."
      ]
     },
     "execution_count": 4,
     "metadata": {},
     "output_type": "execute_result"
    }
   ],
   "source": [
    "edges"
   ]
  },
  {
   "cell_type": "code",
   "execution_count": 6,
   "metadata": {
    "collapsed": false
   },
   "outputs": [
    {
     "data": {
      "text/html": [
       "<div style=\"max-height:1000px;max-width:1500px;overflow:auto;\"><table frame=\"box\" rules=\"cols\">\n",
       "    <tr>\n",
       "        <th style=\"padding-left: 1em; padding-right: 1em; text-align: center\">name</th>\n",
       "    </tr>\n",
       "    <tr>\n",
       "        <td style=\"padding-left: 1em; padding-right: 1em; text-align: center; vertical-align: top\">andre</td>\n",
       "    </tr>\n",
       "    <tr>\n",
       "        <td style=\"padding-left: 1em; padding-right: 1em; text-align: center; vertical-align: top\">carol</td>\n",
       "    </tr>\n",
       "    <tr>\n",
       "        <td style=\"padding-left: 1em; padding-right: 1em; text-align: center; vertical-align: top\">beverly</td>\n",
       "    </tr>\n",
       "    <tr>\n",
       "        <td style=\"padding-left: 1em; padding-right: 1em; text-align: center; vertical-align: top\">diane</td>\n",
       "    </tr>\n",
       "    <tr>\n",
       "        <td style=\"padding-left: 1em; padding-right: 1em; text-align: center; vertical-align: top\">ed</td>\n",
       "    </tr>\n",
       "    <tr>\n",
       "        <td style=\"padding-left: 1em; padding-right: 1em; text-align: center; vertical-align: top\">fernando</td>\n",
       "    </tr>\n",
       "    <tr>\n",
       "        <td style=\"padding-left: 1em; padding-right: 1em; text-align: center; vertical-align: top\">garth</td>\n",
       "    </tr>\n",
       "    <tr>\n",
       "        <td style=\"padding-left: 1em; padding-right: 1em; text-align: center; vertical-align: top\">heather</td>\n",
       "    </tr>\n",
       "    <tr>\n",
       "        <td style=\"padding-left: 1em; padding-right: 1em; text-align: center; vertical-align: top\">ike</td>\n",
       "    </tr>\n",
       "    <tr>\n",
       "        <td style=\"padding-left: 1em; padding-right: 1em; text-align: center; vertical-align: top\">jane</td>\n",
       "    </tr>\n",
       "</table>\n",
       "[10 rows x 1 columns]<br/>\n",
       "</div>"
      ],
      "text/plain": [
       "Columns:\n",
       "\tname\tstr\n",
       "\n",
       "Rows: 10\n",
       "\n",
       "Data:\n",
       "+----------+\n",
       "|   name   |\n",
       "+----------+\n",
       "|  andre   |\n",
       "|  carol   |\n",
       "| beverly  |\n",
       "|  diane   |\n",
       "|    ed    |\n",
       "| fernando |\n",
       "|  garth   |\n",
       "| heather  |\n",
       "|   ike    |\n",
       "|   jane   |\n",
       "+----------+\n",
       "[10 rows x 1 columns]"
      ]
     },
     "execution_count": 6,
     "metadata": {},
     "output_type": "execute_result"
    }
   ],
   "source": [
    "vertices"
   ]
  },
  {
   "cell_type": "code",
   "execution_count": 9,
   "metadata": {
    "collapsed": false
   },
   "outputs": [
    {
     "data": {
      "application/javascript": [
       "$(\"head\").append($(\"<link/>\").attr({\n",
       "  rel:  \"stylesheet\",\n",
       "  type: \"text/css\",\n",
       "  href: \"//cdnjs.cloudflare.com/ajax/libs/font-awesome/4.1.0/css/font-awesome.min.css\"\n",
       "}));\n",
       "$(\"head\").append($(\"<link/>\").attr({\n",
       "  rel:  \"stylesheet\",\n",
       "  type: \"text/css\",\n",
       "  href: \"https://static.turi.com/products/graphlab-create/2.1/canvas/css/canvas.css\"\n",
       "}));\n",
       "\n",
       "            (function(){\n",
       "\n",
       "                var e = null;\n",
       "                if (typeof element == 'undefined') {\n",
       "                    var scripts = document.getElementsByTagName('script');\n",
       "                    var thisScriptTag = scripts[scripts.length-1];\n",
       "                    var parentDiv = thisScriptTag.parentNode;\n",
       "                    e = document.createElement('div');\n",
       "                    parentDiv.appendChild(e);\n",
       "                } else {\n",
       "                    e = element[0];\n",
       "                }\n",
       "\n",
       "                if (typeof requirejs !== 'undefined') {\n",
       "                    // disable load timeout; ipython_app.js is large and can take a while to load.\n",
       "                    requirejs.config({waitSeconds: 0});\n",
       "                }\n",
       "\n",
       "                require(['https://static.turi.com/products/graphlab-create/2.1/canvas/js/ipython_app.js'], function(IPythonApp){\n",
       "                    var app = new IPythonApp();\n",
       "                    app.attachView('sframe','Summary', {\"ipython\": true, \"sketch\": {\"name\": {\"complete\": true, \"numeric\": false, \"num_unique\": 10, \"num_undefined\": 0, \"progress\": 1.0, \"frequent_items\": {\"heather\": {\"frequency\": 1, \"value\": \"heather\"}, \"ed\": {\"frequency\": 1, \"value\": \"ed\"}, \"diane\": {\"frequency\": 1, \"value\": \"diane\"}, \"fernando\": {\"frequency\": 1, \"value\": \"fernando\"}, \"andre\": {\"frequency\": 1, \"value\": \"andre\"}, \"ike\": {\"frequency\": 1, \"value\": \"ike\"}, \"garth\": {\"frequency\": 1, \"value\": \"garth\"}, \"jane\": {\"frequency\": 1, \"value\": \"jane\"}, \"carol\": {\"frequency\": 1, \"value\": \"carol\"}, \"beverly\": {\"frequency\": 1, \"value\": \"beverly\"}}, \"size\": 10}}, \"selected_variable\": {\"name\": [\"vertices\"], \"descriptives\": {\"rows\": 10, \"columns\": 1}, \"view_component\": \"Summary\", \"view_file\": \"sframe\", \"view_params\": {\"y\": null, \"x\": null, \"columns\": [\"name\"], \"view\": null}, \"view_components\": [\"Summary\", \"Table\", \"Bar Chart\", \"BoxWhisker Plot\", \"Line Chart\", \"Scatter Plot\", \"Heat Map\", \"Plots\"], \"type\": \"SFrame\", \"columns\": [{\"dtype\": \"str\", \"name\": \"name\"}], \"column_identifiers\": [\"name\"]}, \"columns\": [{\"dtype\": \"str\", \"name\": \"name\"}]}, e);\n",
       "                });\n",
       "            })();\n",
       "        "
      ]
     },
     "metadata": {},
     "output_type": "display_data"
    }
   ],
   "source": [
    "# SFrame has a number of methods to explore and transform your data\n",
    "vertices.show()"
   ]
  },
  {
   "cell_type": "code",
   "execution_count": 10,
   "metadata": {
    "collapsed": false
   },
   "outputs": [
    {
     "data": {
      "application/javascript": [
       "$(\"head\").append($(\"<link/>\").attr({\n",
       "  rel:  \"stylesheet\",\n",
       "  type: \"text/css\",\n",
       "  href: \"//cdnjs.cloudflare.com/ajax/libs/font-awesome/4.1.0/css/font-awesome.min.css\"\n",
       "}));\n",
       "$(\"head\").append($(\"<link/>\").attr({\n",
       "  rel:  \"stylesheet\",\n",
       "  type: \"text/css\",\n",
       "  href: \"https://static.turi.com/products/graphlab-create/2.1/canvas/css/canvas.css\"\n",
       "}));\n",
       "\n",
       "            (function(){\n",
       "\n",
       "                var e = null;\n",
       "                if (typeof element == 'undefined') {\n",
       "                    var scripts = document.getElementsByTagName('script');\n",
       "                    var thisScriptTag = scripts[scripts.length-1];\n",
       "                    var parentDiv = thisScriptTag.parentNode;\n",
       "                    e = document.createElement('div');\n",
       "                    parentDiv.appendChild(e);\n",
       "                } else {\n",
       "                    e = element[0];\n",
       "                }\n",
       "\n",
       "                if (typeof requirejs !== 'undefined') {\n",
       "                    // disable load timeout; ipython_app.js is large and can take a while to load.\n",
       "                    requirejs.config({waitSeconds: 0});\n",
       "                }\n",
       "\n",
       "                require(['https://static.turi.com/products/graphlab-create/2.1/canvas/js/ipython_app.js'], function(IPythonApp){\n",
       "                    var app = new IPythonApp();\n",
       "                    app.attachView('sframe','Summary', {\"ipython\": true, \"sketch\": {\"src\": {\"complete\": true, \"numeric\": false, \"num_unique\": 10, \"num_undefined\": 0, \"progress\": 1.0, \"frequent_items\": {\"heather\": {\"frequency\": 3, \"value\": \"heather\"}, \"ed\": {\"frequency\": 3, \"value\": \"ed\"}, \"diane\": {\"frequency\": 6, \"value\": \"diane\"}, \"fernando\": {\"frequency\": 5, \"value\": \"fernando\"}, \"andre\": {\"frequency\": 4, \"value\": \"andre\"}, \"ike\": {\"frequency\": 2, \"value\": \"ike\"}, \"garth\": {\"frequency\": 5, \"value\": \"garth\"}, \"jane\": {\"frequency\": 1, \"value\": \"jane\"}, \"carol\": {\"frequency\": 3, \"value\": \"carol\"}, \"beverly\": {\"frequency\": 4, \"value\": \"beverly\"}}, \"size\": 36}, \"dst\": {\"complete\": true, \"numeric\": false, \"num_unique\": 10, \"num_undefined\": 0, \"progress\": 1.0, \"frequent_items\": {\"heather\": {\"frequency\": 3, \"value\": \"heather\"}, \"ed\": {\"frequency\": 3, \"value\": \"ed\"}, \"diane\": {\"frequency\": 6, \"value\": \"diane\"}, \"fernando\": {\"frequency\": 5, \"value\": \"fernando\"}, \"andre\": {\"frequency\": 4, \"value\": \"andre\"}, \"ike\": {\"frequency\": 2, \"value\": \"ike\"}, \"garth\": {\"frequency\": 5, \"value\": \"garth\"}, \"jane\": {\"frequency\": 1, \"value\": \"jane\"}, \"carol\": {\"frequency\": 3, \"value\": \"carol\"}, \"beverly\": {\"frequency\": 4, \"value\": \"beverly\"}}, \"size\": 36}}, \"selected_variable\": {\"name\": [\"edges\"], \"descriptives\": {\"rows\": 36, \"columns\": 2}, \"view_component\": \"Summary\", \"view_file\": \"sframe\", \"view_params\": {\"y\": null, \"x\": null, \"columns\": [\"src\", \"dst\"], \"view\": null}, \"view_components\": [\"Summary\", \"Table\", \"Bar Chart\", \"BoxWhisker Plot\", \"Line Chart\", \"Scatter Plot\", \"Heat Map\", \"Plots\"], \"type\": \"SFrame\", \"columns\": [{\"dtype\": \"str\", \"name\": \"src\"}, {\"dtype\": \"str\", \"name\": \"dst\"}], \"column_identifiers\": [\"src\", \"dst\"]}, \"columns\": [{\"dtype\": \"str\", \"name\": \"src\"}, {\"dtype\": \"str\", \"name\": \"dst\"}]}, e);\n",
       "                });\n",
       "            })();\n",
       "        "
      ]
     },
     "metadata": {},
     "output_type": "display_data"
    }
   ],
   "source": [
    "# this shows the summary of the edges SFrame\n",
    "edges.show()"
   ]
  },
  {
   "cell_type": "markdown",
   "metadata": {},
   "source": [
    "## Create a graph object"
   ]
  },
  {
   "cell_type": "code",
   "execution_count": 11,
   "metadata": {
    "collapsed": false
   },
   "outputs": [],
   "source": [
    "g = gl.SGraph()"
   ]
  },
  {
   "cell_type": "code",
   "execution_count": 12,
   "metadata": {
    "collapsed": false
   },
   "outputs": [
    {
     "data": {
      "text/html": [
       "<div style=\"max-height:1000px;max-width:1500px;overflow:auto;\"><table frame=\"box\" rules=\"cols\">\n",
       "    <tr>\n",
       "        <th style=\"padding-left: 1em; padding-right: 1em; text-align: center\">src</th>\n",
       "        <th style=\"padding-left: 1em; padding-right: 1em; text-align: center\">dst</th>\n",
       "    </tr>\n",
       "    <tr>\n",
       "        <td style=\"padding-left: 1em; padding-right: 1em; text-align: center; vertical-align: top\">andre</td>\n",
       "        <td style=\"padding-left: 1em; padding-right: 1em; text-align: center; vertical-align: top\">carol</td>\n",
       "    </tr>\n",
       "    <tr>\n",
       "        <td style=\"padding-left: 1em; padding-right: 1em; text-align: center; vertical-align: top\">carol</td>\n",
       "        <td style=\"padding-left: 1em; padding-right: 1em; text-align: center; vertical-align: top\">fernando</td>\n",
       "    </tr>\n",
       "    <tr>\n",
       "        <td style=\"padding-left: 1em; padding-right: 1em; text-align: center; vertical-align: top\">fernando</td>\n",
       "        <td style=\"padding-left: 1em; padding-right: 1em; text-align: center; vertical-align: top\">carol</td>\n",
       "    </tr>\n",
       "    <tr>\n",
       "        <td style=\"padding-left: 1em; padding-right: 1em; text-align: center; vertical-align: top\">carol</td>\n",
       "        <td style=\"padding-left: 1em; padding-right: 1em; text-align: center; vertical-align: top\">diane</td>\n",
       "    </tr>\n",
       "    <tr>\n",
       "        <td style=\"padding-left: 1em; padding-right: 1em; text-align: center; vertical-align: top\">andre</td>\n",
       "        <td style=\"padding-left: 1em; padding-right: 1em; text-align: center; vertical-align: top\">diane</td>\n",
       "    </tr>\n",
       "    <tr>\n",
       "        <td style=\"padding-left: 1em; padding-right: 1em; text-align: center; vertical-align: top\">andre</td>\n",
       "        <td style=\"padding-left: 1em; padding-right: 1em; text-align: center; vertical-align: top\">fernando</td>\n",
       "    </tr>\n",
       "    <tr>\n",
       "        <td style=\"padding-left: 1em; padding-right: 1em; text-align: center; vertical-align: top\">fernando</td>\n",
       "        <td style=\"padding-left: 1em; padding-right: 1em; text-align: center; vertical-align: top\">diane</td>\n",
       "    </tr>\n",
       "    <tr>\n",
       "        <td style=\"padding-left: 1em; padding-right: 1em; text-align: center; vertical-align: top\">beverly</td>\n",
       "        <td style=\"padding-left: 1em; padding-right: 1em; text-align: center; vertical-align: top\">diane</td>\n",
       "    </tr>\n",
       "    <tr>\n",
       "        <td style=\"padding-left: 1em; padding-right: 1em; text-align: center; vertical-align: top\">beverly</td>\n",
       "        <td style=\"padding-left: 1em; padding-right: 1em; text-align: center; vertical-align: top\">garth</td>\n",
       "    </tr>\n",
       "    <tr>\n",
       "        <td style=\"padding-left: 1em; padding-right: 1em; text-align: center; vertical-align: top\">garth</td>\n",
       "        <td style=\"padding-left: 1em; padding-right: 1em; text-align: center; vertical-align: top\">beverly</td>\n",
       "    </tr>\n",
       "</table>\n",
       "[? rows x 2 columns]<br/>Note: Only the head of the SFrame is printed. This SFrame is lazily evaluated.<br/>You can use sf.materialize() to force materialization.\n",
       "</div>"
      ],
      "text/plain": [
       "Columns:\n",
       "\tsrc\tstr\n",
       "\tdst\tstr\n",
       "\n",
       "Rows: Unknown\n",
       "\n",
       "Data:\n",
       "+----------+----------+\n",
       "|   src    |   dst    |\n",
       "+----------+----------+\n",
       "|  andre   |  carol   |\n",
       "|  carol   | fernando |\n",
       "| fernando |  carol   |\n",
       "|  carol   |  diane   |\n",
       "|  andre   |  diane   |\n",
       "|  andre   | fernando |\n",
       "| fernando |  diane   |\n",
       "| beverly  |  diane   |\n",
       "| beverly  |  garth   |\n",
       "|  garth   | beverly  |\n",
       "+----------+----------+\n",
       "[? rows x 2 columns]\n",
       "Note: Only the head of the SFrame is printed. This SFrame is lazily evaluated.\n",
       "You can use sf.materialize() to force materialization."
      ]
     },
     "execution_count": 12,
     "metadata": {},
     "output_type": "execute_result"
    }
   ],
   "source": [
    "edges[(edges['src'] !='diane') & (edges['dst'] !='andre')]"
   ]
  },
  {
   "cell_type": "markdown",
   "metadata": {},
   "source": [
    "Add vertices and edges to this graph"
   ]
  },
  {
   "cell_type": "code",
   "execution_count": 10,
   "metadata": {
    "collapsed": false
   },
   "outputs": [],
   "source": [
    "# add some vertices in a dataflow-ish way\n",
    "g = g.add_vertices(vertices=vertices, vid_field='name')"
   ]
  },
  {
   "cell_type": "code",
   "execution_count": 11,
   "metadata": {
    "collapsed": false
   },
   "outputs": [],
   "source": [
    "# more dataflow\n",
    "g = g.add_edges(edges=edges, src_field='src', dst_field='dst')"
   ]
  },
  {
   "cell_type": "code",
   "execution_count": 17,
   "metadata": {
    "collapsed": false
   },
   "outputs": [
    {
     "data": {
      "application/javascript": [
       "$(\"head\").append($(\"<link/>\").attr({\n",
       "  rel:  \"stylesheet\",\n",
       "  type: \"text/css\",\n",
       "  href: \"//cdnjs.cloudflare.com/ajax/libs/font-awesome/4.1.0/css/font-awesome.min.css\"\n",
       "}));\n",
       "$(\"head\").append($(\"<link/>\").attr({\n",
       "  rel:  \"stylesheet\",\n",
       "  type: \"text/css\",\n",
       "  href: \"https://static.turi.com/products/graphlab-create/2.1/canvas/css/canvas.css\"\n",
       "}));\n",
       "\n",
       "            (function(){\n",
       "\n",
       "                var e = null;\n",
       "                if (typeof element == 'undefined') {\n",
       "                    var scripts = document.getElementsByTagName('script');\n",
       "                    var thisScriptTag = scripts[scripts.length-1];\n",
       "                    var parentDiv = thisScriptTag.parentNode;\n",
       "                    e = document.createElement('div');\n",
       "                    parentDiv.appendChild(e);\n",
       "                } else {\n",
       "                    e = element[0];\n",
       "                }\n",
       "\n",
       "                if (typeof requirejs !== 'undefined') {\n",
       "                    // disable load timeout; ipython_app.js is large and can take a while to load.\n",
       "                    requirejs.config({waitSeconds: 0});\n",
       "                }\n",
       "\n",
       "                require(['https://static.turi.com/products/graphlab-create/2.1/canvas/js/ipython_app.js'], function(IPythonApp){\n",
       "                    var app = new IPythonApp();\n",
       "                    app.attachView('sgraph','View', {\"edges_labels\": null, \"selected_variable\": {\"name\": [\"g\"], \"view_file\": \"sgraph\", \"view_component\": \"View\", \"view_params\": {\"elabel_hover\": false, \"vertex_positions\": null, \"h_offset\": 0.0, \"node_size\": 300, \"ecolor\": [0.37, 0.33, 0.33], \"elabel\": null, \"arrows\": false, \"ewidth\": 1, \"vlabel\": \"id\", \"highlight_color\": [0.69, 0.0, 0.498], \"vcolor\": [0.522, 0.741, 0.0], \"vlabel_hover\": false, \"highlight\": {}, \"v_offset\": 0.03}, \"view_components\": [\"View\"], \"type\": \"SGraph\", \"descriptives_links\": {\"edges\": \"edges\", \"vertices\": \"vertices\"}, \"descriptives\": {\"edges\": 36, \"vertices\": 10}}, \"positions\": null, \"error_type\": 0, \"vertices\": [\"garth\", \"ed\", \"carol\", \"andre\", \"jane\", \"fernando\", \"beverly\", \"ike\", \"diane\", \"heather\"], \"vertices_labels\": [\"garth\", \"ed\", \"carol\", \"andre\", \"jane\", \"fernando\", \"beverly\", \"ike\", \"diane\", \"heather\"], \"edges\": [[\"ed\", \"garth\"], [\"garth\", \"ed\"], [\"garth\", \"fernando\"], [\"garth\", \"beverly\"], [\"ed\", \"beverly\"], [\"ed\", \"diane\"], [\"garth\", \"diane\"], [\"garth\", \"heather\"], [\"carol\", \"andre\"], [\"andre\", \"carol\"], [\"carol\", \"fernando\"], [\"andre\", \"fernando\"], [\"andre\", \"beverly\"], [\"carol\", \"diane\"], [\"andre\", \"diane\"], [\"fernando\", \"garth\"], [\"beverly\", \"garth\"], [\"beverly\", \"ed\"], [\"fernando\", \"carol\"], [\"fernando\", \"andre\"], [\"beverly\", \"andre\"], [\"jane\", \"ike\"], [\"fernando\", \"diane\"], [\"beverly\", \"diane\"], [\"fernando\", \"heather\"], [\"ike\", \"jane\"], [\"ike\", \"heather\"], [\"diane\", \"ed\"], [\"diane\", \"garth\"], [\"diane\", \"carol\"], [\"diane\", \"andre\"], [\"diane\", \"fernando\"], [\"diane\", \"beverly\"], [\"heather\", \"garth\"], [\"heather\", \"fernando\"], [\"heather\", \"ike\"]], \"ipython\": true, \"error_msg\": \"\"}, e);\n",
       "                });\n",
       "            })();\n",
       "        "
      ]
     },
     "metadata": {},
     "output_type": "display_data"
    }
   ],
   "source": [
    "g.show(vlabel=\"id\")"
   ]
  },
  {
   "cell_type": "markdown",
   "metadata": {},
   "source": [
    "## Apply the pagerank algorithm to our graph"
   ]
  },
  {
   "cell_type": "code",
   "execution_count": 13,
   "metadata": {
    "collapsed": false
   },
   "outputs": [
    {
     "data": {
      "text/html": [
       "<pre>Counting out degree</pre>"
      ],
      "text/plain": [
       "Counting out degree"
      ]
     },
     "metadata": {},
     "output_type": "display_data"
    },
    {
     "data": {
      "text/html": [
       "<pre>Done counting out degree</pre>"
      ],
      "text/plain": [
       "Done counting out degree"
      ]
     },
     "metadata": {},
     "output_type": "display_data"
    },
    {
     "data": {
      "text/html": [
       "<pre>+-----------+-----------------------+</pre>"
      ],
      "text/plain": [
       "+-----------+-----------------------+"
      ]
     },
     "metadata": {},
     "output_type": "display_data"
    },
    {
     "data": {
      "text/html": [
       "<pre>| Iteration | L1 change in pagerank |</pre>"
      ],
      "text/plain": [
       "| Iteration | L1 change in pagerank |"
      ]
     },
     "metadata": {},
     "output_type": "display_data"
    },
    {
     "data": {
      "text/html": [
       "<pre>+-----------+-----------------------+</pre>"
      ],
      "text/plain": [
       "+-----------+-----------------------+"
      ]
     },
     "metadata": {},
     "output_type": "display_data"
    },
    {
     "data": {
      "text/html": [
       "<pre>| 1         | 2.49333               |</pre>"
      ],
      "text/plain": [
       "| 1         | 2.49333               |"
      ]
     },
     "metadata": {},
     "output_type": "display_data"
    },
    {
     "data": {
      "text/html": [
       "<pre>| 2         | 1.07733               |</pre>"
      ],
      "text/plain": [
       "| 2         | 1.07733               |"
      ]
     },
     "metadata": {},
     "output_type": "display_data"
    },
    {
     "data": {
      "text/html": [
       "<pre>| 3         | 0.738986              |</pre>"
      ],
      "text/plain": [
       "| 3         | 0.738986              |"
      ]
     },
     "metadata": {},
     "output_type": "display_data"
    },
    {
     "data": {
      "text/html": [
       "<pre>| 4         | 0.501417              |</pre>"
      ],
      "text/plain": [
       "| 4         | 0.501417              |"
      ]
     },
     "metadata": {},
     "output_type": "display_data"
    },
    {
     "data": {
      "text/html": [
       "<pre>| 5         | 0.33979               |</pre>"
      ],
      "text/plain": [
       "| 5         | 0.33979               |"
      ]
     },
     "metadata": {},
     "output_type": "display_data"
    },
    {
     "data": {
      "text/html": [
       "<pre>| 6         | 0.256258              |</pre>"
      ],
      "text/plain": [
       "| 6         | 0.256258              |"
      ]
     },
     "metadata": {},
     "output_type": "display_data"
    },
    {
     "data": {
      "text/html": [
       "<pre>| 7         | 0.170334              |</pre>"
      ],
      "text/plain": [
       "| 7         | 0.170334              |"
      ]
     },
     "metadata": {},
     "output_type": "display_data"
    },
    {
     "data": {
      "text/html": [
       "<pre>| 8         | 0.129226              |</pre>"
      ],
      "text/plain": [
       "| 8         | 0.129226              |"
      ]
     },
     "metadata": {},
     "output_type": "display_data"
    },
    {
     "data": {
      "text/html": [
       "<pre>| 9         | 0.0853165             |</pre>"
      ],
      "text/plain": [
       "| 9         | 0.0853165             |"
      ]
     },
     "metadata": {},
     "output_type": "display_data"
    },
    {
     "data": {
      "text/html": [
       "<pre>| 10        | 0.0651076             |</pre>"
      ],
      "text/plain": [
       "| 10        | 0.0651076             |"
      ]
     },
     "metadata": {},
     "output_type": "display_data"
    },
    {
     "data": {
      "text/html": [
       "<pre>| 11        | 0.0427623             |</pre>"
      ],
      "text/plain": [
       "| 11        | 0.0427623             |"
      ]
     },
     "metadata": {},
     "output_type": "display_data"
    },
    {
     "data": {
      "text/html": [
       "<pre>| 12        | 0.0328138             |</pre>"
      ],
      "text/plain": [
       "| 12        | 0.0328138             |"
      ]
     },
     "metadata": {},
     "output_type": "display_data"
    },
    {
     "data": {
      "text/html": [
       "<pre>| 13        | 0.0214502             |</pre>"
      ],
      "text/plain": [
       "| 13        | 0.0214502             |"
      ]
     },
     "metadata": {},
     "output_type": "display_data"
    },
    {
     "data": {
      "text/html": [
       "<pre>| 14        | 0.0165451             |</pre>"
      ],
      "text/plain": [
       "| 14        | 0.0165451             |"
      ]
     },
     "metadata": {},
     "output_type": "display_data"
    },
    {
     "data": {
      "text/html": [
       "<pre>| 15        | 0.0107679             |</pre>"
      ],
      "text/plain": [
       "| 15        | 0.0107679             |"
      ]
     },
     "metadata": {},
     "output_type": "display_data"
    },
    {
     "data": {
      "text/html": [
       "<pre>| 16        | 0.00834577            |</pre>"
      ],
      "text/plain": [
       "| 16        | 0.00834577            |"
      ]
     },
     "metadata": {},
     "output_type": "display_data"
    },
    {
     "data": {
      "text/html": [
       "<pre>+-----------+-----------------------+</pre>"
      ],
      "text/plain": [
       "+-----------+-----------------------+"
      ]
     },
     "metadata": {},
     "output_type": "display_data"
    }
   ],
   "source": [
    "pr = gl.pagerank.create(g)"
   ]
  },
  {
   "cell_type": "markdown",
   "metadata": {},
   "source": [
    "From the exercise definition, we're expecting to see:\n",
    "\n",
    "![](https://raw.githubusercontent.com/rmalarc/DATA620/master/hw01/kite.png)"
   ]
  },
  {
   "cell_type": "code",
   "execution_count": 14,
   "metadata": {
    "collapsed": false
   },
   "outputs": [
    {
     "data": {
      "text/html": [
       "<div style=\"max-height:1000px;max-width:1500px;overflow:auto;\"><table frame=\"box\" rules=\"cols\">\n",
       "    <tr>\n",
       "        <th style=\"padding-left: 1em; padding-right: 1em; text-align: center\">__id</th>\n",
       "        <th style=\"padding-left: 1em; padding-right: 1em; text-align: center\">pagerank</th>\n",
       "        <th style=\"padding-left: 1em; padding-right: 1em; text-align: center\">delta</th>\n",
       "    </tr>\n",
       "    <tr>\n",
       "        <td style=\"padding-left: 1em; padding-right: 1em; text-align: center; vertical-align: top\">diane</td>\n",
       "        <td style=\"padding-left: 1em; padding-right: 1em; text-align: center; vertical-align: top\">1.47113788753</td>\n",
       "        <td style=\"padding-left: 1em; padding-right: 1em; text-align: center; vertical-align: top\">0.000402861444182</td>\n",
       "    </tr>\n",
       "    <tr>\n",
       "        <td style=\"padding-left: 1em; padding-right: 1em; text-align: center; vertical-align: top\">fernando</td>\n",
       "        <td style=\"padding-left: 1em; padding-right: 1em; text-align: center; vertical-align: top\">1.28866352405</td>\n",
       "        <td style=\"padding-left: 1em; padding-right: 1em; text-align: center; vertical-align: top\">0.000619352316094</td>\n",
       "    </tr>\n",
       "    <tr>\n",
       "        <td style=\"padding-left: 1em; padding-right: 1em; text-align: center; vertical-align: top\">garth</td>\n",
       "        <td style=\"padding-left: 1em; padding-right: 1em; text-align: center; vertical-align: top\">1.28866352405</td>\n",
       "        <td style=\"padding-left: 1em; padding-right: 1em; text-align: center; vertical-align: top\">0.000619352316094</td>\n",
       "    </tr>\n",
       "    <tr>\n",
       "        <td style=\"padding-left: 1em; padding-right: 1em; text-align: center; vertical-align: top\">andre</td>\n",
       "        <td style=\"padding-left: 1em; padding-right: 1em; text-align: center; vertical-align: top\">1.01892307246</td>\n",
       "        <td style=\"padding-left: 1em; padding-right: 1em; text-align: center; vertical-align: top\">0.000201729912852</td>\n",
       "    </tr>\n",
       "    <tr>\n",
       "        <td style=\"padding-left: 1em; padding-right: 1em; text-align: center; vertical-align: top\">beverly</td>\n",
       "        <td style=\"padding-left: 1em; padding-right: 1em; text-align: center; vertical-align: top\">1.01892307246</td>\n",
       "        <td style=\"padding-left: 1em; padding-right: 1em; text-align: center; vertical-align: top\">0.000201729912852</td>\n",
       "    </tr>\n",
       "    <tr>\n",
       "        <td style=\"padding-left: 1em; padding-right: 1em; text-align: center; vertical-align: top\">heather</td>\n",
       "        <td style=\"padding-left: 1em; padding-right: 1em; text-align: center; vertical-align: top\">0.953682942928</td>\n",
       "        <td style=\"padding-left: 1em; padding-right: 1em; text-align: center; vertical-align: top\">0.00165781968312</td>\n",
       "    </tr>\n",
       "    <tr>\n",
       "        <td style=\"padding-left: 1em; padding-right: 1em; text-align: center; vertical-align: top\">ike</td>\n",
       "        <td style=\"padding-left: 1em; padding-right: 1em; text-align: center; vertical-align: top\">0.856658205613</td>\n",
       "        <td style=\"padding-left: 1em; padding-right: 1em; text-align: center; vertical-align: top\">0.00293418253803</td>\n",
       "    </tr>\n",
       "    <tr>\n",
       "        <td style=\"padding-left: 1em; padding-right: 1em; text-align: center; vertical-align: top\">carol</td>\n",
       "        <td style=\"padding-left: 1em; padding-right: 1em; text-align: center; vertical-align: top\">0.79401050297</td>\n",
       "        <td style=\"padding-left: 1em; padding-right: 1em; text-align: center; vertical-align: top\">0.000201434171881</td>\n",
       "    </tr>\n",
       "    <tr>\n",
       "        <td style=\"padding-left: 1em; padding-right: 1em; text-align: center; vertical-align: top\">ed</td>\n",
       "        <td style=\"padding-left: 1em; padding-right: 1em; text-align: center; vertical-align: top\">0.79401050297</td>\n",
       "        <td style=\"padding-left: 1em; padding-right: 1em; text-align: center; vertical-align: top\">0.000201434171881</td>\n",
       "    </tr>\n",
       "    <tr>\n",
       "        <td style=\"padding-left: 1em; padding-right: 1em; text-align: center; vertical-align: top\">jane</td>\n",
       "        <td style=\"padding-left: 1em; padding-right: 1em; text-align: center; vertical-align: top\">0.515326764964</td>\n",
       "        <td style=\"padding-left: 1em; padding-right: 1em; text-align: center; vertical-align: top\">0.00130587787346</td>\n",
       "    </tr>\n",
       "</table>\n",
       "[10 rows x 3 columns]<br/>\n",
       "</div>"
      ],
      "text/plain": [
       "Columns:\n",
       "\t__id\tstr\n",
       "\tpagerank\tfloat\n",
       "\tdelta\tfloat\n",
       "\n",
       "Rows: 10\n",
       "\n",
       "Data:\n",
       "+----------+----------------+-------------------+\n",
       "|   __id   |    pagerank    |       delta       |\n",
       "+----------+----------------+-------------------+\n",
       "|  diane   | 1.47113788753  | 0.000402861444182 |\n",
       "| fernando | 1.28866352405  | 0.000619352316094 |\n",
       "|  garth   | 1.28866352405  | 0.000619352316094 |\n",
       "|  andre   | 1.01892307246  | 0.000201729912852 |\n",
       "| beverly  | 1.01892307246  | 0.000201729912852 |\n",
       "| heather  | 0.953682942928 |  0.00165781968312 |\n",
       "|   ike    | 0.856658205613 |  0.00293418253803 |\n",
       "|  carol   | 0.79401050297  | 0.000201434171881 |\n",
       "|    ed    | 0.79401050297  | 0.000201434171881 |\n",
       "|   jane   | 0.515326764964 |  0.00130587787346 |\n",
       "+----------+----------------+-------------------+\n",
       "[10 rows x 3 columns]"
      ]
     },
     "execution_count": 14,
     "metadata": {},
     "output_type": "execute_result"
    }
   ],
   "source": [
    "pr.get('pagerank').topk(column_name='pagerank')"
   ]
  },
  {
   "cell_type": "markdown",
   "metadata": {},
   "source": [
    "and the Pagerank rankings are definitely related to the graph as we can see that Diane is the top ranking element as she has 7 links to others."
   ]
  },
  {
   "cell_type": "markdown",
   "metadata": {},
   "source": [
    "## Getting a Subset of the Graph"
   ]
  },
  {
   "cell_type": "code",
   "execution_count": 15,
   "metadata": {
    "collapsed": false
   },
   "outputs": [
    {
     "data": {
      "application/javascript": [
       "$(\"head\").append($(\"<link/>\").attr({\n",
       "  rel:  \"stylesheet\",\n",
       "  type: \"text/css\",\n",
       "  href: \"//cdnjs.cloudflare.com/ajax/libs/font-awesome/4.1.0/css/font-awesome.min.css\"\n",
       "}));\n",
       "$(\"head\").append($(\"<link/>\").attr({\n",
       "  rel:  \"stylesheet\",\n",
       "  type: \"text/css\",\n",
       "  href: \"https://static.turi.com/products/graphlab-create/2.1/canvas/css/canvas.css\"\n",
       "}));\n",
       "\n",
       "            (function(){\n",
       "\n",
       "                var e = null;\n",
       "                if (typeof element == 'undefined') {\n",
       "                    var scripts = document.getElementsByTagName('script');\n",
       "                    var thisScriptTag = scripts[scripts.length-1];\n",
       "                    var parentDiv = thisScriptTag.parentNode;\n",
       "                    e = document.createElement('div');\n",
       "                    parentDiv.appendChild(e);\n",
       "                } else {\n",
       "                    e = element[0];\n",
       "                }\n",
       "\n",
       "                if (typeof requirejs !== 'undefined') {\n",
       "                    // disable load timeout; ipython_app.js is large and can take a while to load.\n",
       "                    requirejs.config({waitSeconds: 0});\n",
       "                }\n",
       "\n",
       "                require(['https://static.turi.com/products/graphlab-create/2.1/canvas/js/ipython_app.js'], function(IPythonApp){\n",
       "                    var app = new IPythonApp();\n",
       "                    app.attachView('sgraph','View', {\"edges_labels\": null, \"selected_variable\": {\"name\": [\"<SGraph>\"], \"view_file\": \"sgraph\", \"view_component\": \"View\", \"view_params\": {\"elabel_hover\": false, \"vertex_positions\": null, \"h_offset\": 0.0, \"node_size\": 300, \"ecolor\": [0.37, 0.33, 0.33], \"elabel\": null, \"arrows\": false, \"ewidth\": 1, \"vlabel\": \"id\", \"highlight_color\": [0.69, 0.0, 0.498], \"vcolor\": [0.522, 0.741, 0.0], \"vlabel_hover\": false, \"highlight\": {}, \"v_offset\": 0.03}, \"view_components\": [\"View\"], \"type\": \"SGraph\", \"descriptives_links\": {\"edges\": \"edges\", \"vertices\": \"vertices\"}, \"descriptives\": {\"edges\": 28, \"vertices\": 7}}, \"positions\": null, \"error_type\": 0, \"vertices\": [\"ed\", \"garth\", \"andre\", \"carol\", \"beverly\", \"fernando\", \"diane\"], \"vertices_labels\": [\"ed\", \"garth\", \"andre\", \"carol\", \"beverly\", \"fernando\", \"diane\"], \"edges\": [[\"garth\", \"ed\"], [\"ed\", \"garth\"], [\"garth\", \"beverly\"], [\"ed\", \"beverly\"], [\"garth\", \"fernando\"], [\"garth\", \"diane\"], [\"ed\", \"diane\"], [\"carol\", \"andre\"], [\"andre\", \"carol\"], [\"andre\", \"fernando\"], [\"andre\", \"beverly\"], [\"carol\", \"fernando\"], [\"andre\", \"diane\"], [\"carol\", \"diane\"], [\"beverly\", \"garth\"], [\"beverly\", \"ed\"], [\"fernando\", \"garth\"], [\"fernando\", \"carol\"], [\"fernando\", \"andre\"], [\"beverly\", \"andre\"], [\"beverly\", \"diane\"], [\"fernando\", \"diane\"], [\"diane\", \"garth\"], [\"diane\", \"ed\"], [\"diane\", \"carol\"], [\"diane\", \"andre\"], [\"diane\", \"beverly\"], [\"diane\", \"fernando\"]], \"ipython\": true, \"error_msg\": \"\"}, e);\n",
       "                });\n",
       "            })();\n",
       "        "
      ]
     },
     "metadata": {},
     "output_type": "display_data"
    }
   ],
   "source": [
    "g.get_neighborhood(\"diane\").show(vlabel=\"id\")"
   ]
  },
  {
   "cell_type": "markdown",
   "metadata": {},
   "source": [
    "## Resources\n",
    "\n",
    "* https://turi.com/products/create/docs/index.html"
   ]
  }
 ],
 "metadata": {
  "kernelspec": {
   "display_name": "Python 2",
   "language": "python",
   "name": "python2"
  },
  "language_info": {
   "codemirror_mode": {
    "name": "ipython",
    "version": 2
   },
   "file_extension": ".py",
   "mimetype": "text/x-python",
   "name": "python",
   "nbconvert_exporter": "python",
   "pygments_lexer": "ipython2",
   "version": "2.7.13"
  }
 },
 "nbformat": 4,
 "nbformat_minor": 0
}
